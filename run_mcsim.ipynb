{
 "cells": [
  {
   "cell_type": "markdown",
   "id": "3f472d7e",
   "metadata": {},
   "source": [
    "# Running Monte Carlo Simulations with MC Sim\n",
    "\n",
    "## Overview\n",
    "\n",
    "In Chem 280, we wrote a Python package called `mcsim` which can perform Monte Carlo simulation on Lennard Jones fluids.\n",
    "\n",
    "As a reminder, here are some definitions:\n",
    "\n",
    "`Monte Carlo Simulation` - A simulation method which relies on random numbers.  \n",
    "`Lennard Jones` - A model of particle energy which describes van der Waals (nonbonded and noncharged) interactions between particles.  \n",
    "`configuration` - The set of (x, y, z) coordinates for a system of atoms.\n",
    "\n",
    "For anyone not in Chem 280, here is a very brief explanation of Monte Carlo simulation - For our Monte Carlo simulation, we generate some initial configuration (set of coordinats) for a system of atoms. The atoms are placed in a box with periodic boundary conditions. We then generate additional configurations of the system of atoms by randomly moving the particles and keeping some configurations. Configurations which result in a lower system energy according to the Lennard Jones model are kept. We also occassionally keep configurations of higher energies based on random numbers (like rolling a dice, if above a certain value, we will keep the configuration). This is an extremeley simple explanation of molecular Monte Carlo, but it will be good enough for this exercise if you are not familiar with the method.\n",
    "\n",
    "We can analyze the generated configurations for system properties like pressure or for structural information, like the [radial distribution function](https://en.wikipedia.org/wiki/Radial_distribution_function). This notebook shows how to use the `mcsim` package to run a Monte Carlo simulation.\n",
    "\n",
    "## Steps for running a simulation\n",
    "\n",
    "1. **Import needed packages**\n",
    "1. **Set system parameters** - For each simulation, you will set the number of system parameters number of atoms, system density, and  temperature.\n",
    "1. **Set simulation parameters** - You will set parameters for the simulation. These are the number of steps (or trial moves), the simulation cutoff, and the maximum particle displacement.\n",
    "    - Number of steps - the number of configuration generation trials. These are accepted or rejected based on the energy of the system.\n",
    "    - Simulation cutoff - The maximum length for which to calculate nonbonded interactions.\n",
    "    - Maximum particle displacement - The maximum distance a particle can be moved in any direction when configurations are proposed.\n",
    "1. **Equilibration simulation** - A simulation run which is used to allow the system to acheive equilibrium. You will see the system energy settling during this simulation.\n",
    "1. **Production simulation** - Run after the equilibration. The system is at a stable state, so we can analyze the results.\n",
    "\n",
    "## Exercises\n",
    "\n",
    "Even though we didn't use our program much in Chem 280, we did actually write a working molecular simulation code. In this lab, you will use the molecular simulation code we wrote to analyze a sytem of particles under different conditions. We will look at the effect of system temperature and density, and consider how equilibration length affects the results observed for the simulation. **This notebook is written so that you will only be modifying the system parameters and type simulation parameters in cell 2.**\n",
    "\n",
    "The `run_simulation` command returns a list of generated configurations. The simulation prints the step number, the system energy, and the system pressure to a csv file.\n",
    "\n",
    "This notebook will generate some programming concepts you haven't seen before, but don't worry, we will learn about them in Chem 274A. Try not to get bogged down in the lines of code, but instead look at how we would run a simulation and the simulation results. We are happy to answer any coding questions you have, however!\n",
    "\n",
    "1. Run the simulation with the current parameters. You shouldn't have to modify any code to do this. Take note of the comments and the graphs generated.\n",
    "    The starting parameters are:\n",
    "        - num_atoms = 500\n",
    "        - reduced_temperature = 0.9\n",
    "        - density = 0.9\n",
    "        - 100000 steps for equilibration (freq = 10000)\n",
    "        - 100000 steps for production (freq = 10000)\n",
    "2. Run a simulation with the following parameters:\n",
    "        - num_atoms = 500\n",
    "        - reduced_temperature = 0.9\n",
    "        - density = 0.9\n",
    "        - 1 step for equilibration (freq = 1)\n",
    "        - 1000 steps for production (freq = 100)\n",
    "3. What are the difference you see between (1) and (2). Why do you think these differences occur? For your RDF, you will see nonzero values close to zero distance. Does this make sense physically? (as in, would particles ever be this close?)\n",
    "4. Repeat (1) with a system density of `0.009` and compare the RDF. Note the location of the peak and the shape of the graph. **challenge** Plot two rdfs on the same plot. This will require you to save the rdfs with different variable names and to change the name of the saved figure.\n",
    "5. Repeat (1) or (4) with a system temperature of `1.5` and compare the RDF. **challenge** Plot the two rdfs on the same plot. This will require you to save the rdfs with different variable names and to change the name of the saved figure.\n",
    "5. **optional** Try (1) and (2) again using `generate_cubic_lattice` instead of `generate_random_coordinates`. The functions behave the same, you should only have to change the function name. Do you notice any differences in results?\n",
    "\n",
    "\n",
    "Record your answers in a `README.md` file in this repository."
   ]
  },
  {
   "cell_type": "code",
   "execution_count": null,
   "id": "ffd6f24c",
   "metadata": {},
   "outputs": [],
   "source": [
    "# All of the imports we will need in this notebook\n",
    "\n",
    "import numpy as np\n",
    "import pandas as pd\n",
    "import matplotlib.pyplot as plt\n",
    "from copy import deepcopy\n",
    "\n",
    "# Import the needed functions from our mcsim package.\n",
    "from mcsim import run_simulation, generate_cubic_lattice, generate_random_coordinates\n",
    "from mcsim.analysis import time_average_rdf\n",
    "\n",
    "%matplotlib notebook"
   ]
  },
  {
   "cell_type": "code",
   "execution_count": null,
   "id": "e2d3d1de",
   "metadata": {},
   "outputs": [],
   "source": [
    "# Set system parameters - you will modify this\n",
    "num_atoms = 500\n",
    "reduced_temperature = 0.9\n",
    "density = 0.9\n",
    "\n",
    "# Set simulation parameters - you will modify this\n",
    "num_steps = 100000\n",
    "max_displacement = 0.1 \n",
    "cutoff = 3\n",
    "freq = 10000\n",
    "\n",
    "\n",
    "# Generate the initial configuration\n",
    "atomic_coordinates, box_length = generate_random_coordinates(num_atoms, density)\n",
    "\n",
    "# Convert to numpy array\n",
    "atomic_coordinates = np.array(atomic_coordinates)"
   ]
  },
  {
   "cell_type": "code",
   "execution_count": null,
   "id": "d72354aa",
   "metadata": {},
   "outputs": [],
   "source": [
    "# Run an equilibration simulation\n",
    "equilibration_coords = run_simulation(deepcopy(atomic_coordinates), \n",
    "                                              box_length, cutoff, \n",
    "                                              reduced_temperature, \n",
    "                                              num_steps, freq=freq, filename=\"equilibration.csv\")"
   ]
  },
  {
   "cell_type": "markdown",
   "id": "7162a281",
   "metadata": {},
   "source": [
    "Now that we've run our equilibration, we want to examine the energies to make sure our system has reached a stable state. Our equilibration wrote a file called \"equilibration.csv\". We will read it using pandas and plot it using matplotlib."
   ]
  },
  {
   "cell_type": "code",
   "execution_count": null,
   "id": "86cccea8",
   "metadata": {},
   "outputs": [],
   "source": [
    "equil = pd.read_csv(\"equilibration.csv\")\n",
    "equil.head()"
   ]
  },
  {
   "cell_type": "code",
   "execution_count": null,
   "id": "69baaaf1",
   "metadata": {},
   "outputs": [],
   "source": [
    "## Some code for making a pretty plot with matplotlib\n",
    "\n",
    "fig, ax = plt.subplots()\n",
    "ax.plot(\"Step Number\", \"Energy per particle\", data=equil, color=\"#2565E8\")\n",
    "ax.scatter(\"Step Number\", \"Energy per particle\", data=equil, color=\"#2565E8\", label=None)\n",
    "ax.set_ylabel('Energy per particle', fontsize=16)\n",
    "ax.set_xlabel('Step Number', fontsize=16)\n",
    "ax.tick_params(axis=\"both\", which=\"major\", labelsize=12)\n",
    "ax.legend(fontsize=12)\n",
    "fig.tight_layout()"
   ]
  },
  {
   "cell_type": "markdown",
   "id": "1cb81a5e",
   "metadata": {},
   "source": [
    "After our system as reached a steady energy, we are ready to run simulations which we will analyze. These are called \"production\" simulations."
   ]
  },
  {
   "cell_type": "code",
   "execution_count": null,
   "id": "77895965",
   "metadata": {},
   "outputs": [],
   "source": [
    "# Set simulation parameters\n",
    "num_steps = 100000\n",
    "max_displacement = 0.1 \n",
    "cutoff = 3\n",
    "freq = 10000\n",
    "\n",
    "# One way to keep several different files programmatically is to use a variable file name.\n",
    "# we create a variable file name using the system parameters.\n",
    "# This way, you can modify your simulation notebook and rerun without fear of\n",
    "# losing results you already have!\n",
    "filename = f\"T_{reduced_temperature}_density_{density}_nsteps_{num_steps}\".replace(\".\", \"p\")\n",
    "\n",
    "# Production\n",
    "\n",
    "last_frame = deepcopy(equilibration_coords[-1])\n",
    "    \n",
    "production_coordinates = run_simulation(last_frame, box_length, \n",
    "                                        cutoff, reduced_temperature, \n",
    "                                        num_steps, freq=freq, filename=f\"production_{filename}.csv\")"
   ]
  },
  {
   "cell_type": "markdown",
   "id": "5604d298",
   "metadata": {},
   "source": [
    "We will analyze our configurations to determine the radial distribution function. The radial distribution function has particular shapes depending on the phase (solid, liquid, gas) so the RDF helps us to determine the phase of our material."
   ]
  },
  {
   "cell_type": "code",
   "execution_count": null,
   "id": "2fd0a651",
   "metadata": {},
   "outputs": [],
   "source": [
    "rdf = time_average_rdf(production_coordinates, box_length, num_atoms, box_length/2)"
   ]
  },
  {
   "cell_type": "code",
   "execution_count": null,
   "id": "f0b56e67",
   "metadata": {},
   "outputs": [],
   "source": [
    "fig = plt.figure()\n",
    "ax = fig.add_subplot(111)\n",
    "\n",
    "ax.plot(rdf[0], rdf[1], label=rf'T={reduced_temperature}, $\\rho$={density}', color=\"#2565E8\")\n",
    "ax.set_ylabel(r'$g(r)$', fontsize=16)\n",
    "ax.set_xlabel(r'Distance ($r/\\sigma$)', fontsize=16)\n",
    "ax.tick_params(axis=\"both\", which=\"major\", labelsize=12)\n",
    "ax.legend(fontsize=12)\n",
    "\n",
    "plt.savefig(f'{filename}.png', dpi=300)"
   ]
  },
  {
   "cell_type": "markdown",
   "id": "d35cdcc5",
   "metadata": {},
   "source": []
  },
  {
   "cell_type": "markdown",
   "id": "0f6ae8cc",
   "metadata": {},
   "source": [
    "## Bonus - 3D Visualization of our final system"
   ]
  },
  {
   "cell_type": "code",
   "execution_count": null,
   "id": "e5972f64",
   "metadata": {},
   "outputs": [],
   "source": [
    "fig = plt.figure()\n",
    "ax = fig.add_subplot(projection='3d')\n",
    "\n",
    "final_coordinates = production_coordinates[-1]\n",
    "x = final_coordinates[:, 0]\n",
    "y = final_coordinates[:, 1]\n",
    "z = final_coordinates[:, 2]\n",
    "\n",
    "ax.scatter(x, y, z, marker='o')"
   ]
  },
  {
   "cell_type": "code",
   "execution_count": null,
   "id": "8fb83883",
   "metadata": {},
   "outputs": [],
   "source": []
  }
 ],
 "metadata": {
  "kernelspec": {
   "display_name": "Python 3",
   "language": "python",
   "name": "python3"
  },
  "language_info": {
   "codemirror_mode": {
    "name": "ipython",
    "version": 3
   },
   "file_extension": ".py",
   "mimetype": "text/x-python",
   "name": "python",
   "nbconvert_exporter": "python",
   "pygments_lexer": "ipython3",
   "version": "3.9.12"
  }
 },
 "nbformat": 4,
 "nbformat_minor": 5
}
